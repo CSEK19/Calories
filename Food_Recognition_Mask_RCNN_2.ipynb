{
  "nbformat": 4,
  "nbformat_minor": 0,
  "metadata": {
    "colab": {
      "name": "Food_Recognition_Mask_RCNN_2.ipynb",
      "provenance": [],
      "authorship_tag": "ABX9TyOYaEH9Wc62aCVfrLVDMnY+",
      "include_colab_link": true
    },
    "kernelspec": {
      "name": "python3",
      "display_name": "Python 3"
    },
    "language_info": {
      "name": "python"
    }
  },
  "cells": [
    {
      "cell_type": "markdown",
      "metadata": {
        "id": "view-in-github",
        "colab_type": "text"
      },
      "source": [
        "<a href=\"https://colab.research.google.com/github/CSEK19/Calories/blob/main/Food_Recognition_Mask_RCNN_2.ipynb\" target=\"_parent\"><img src=\"https://colab.research.google.com/assets/colab-badge.svg\" alt=\"Open In Colab\"/></a>"
      ]
    },
    {
      "cell_type": "markdown",
      "metadata": {
        "id": "MmvpK52sim40"
      },
      "source": [
        "# **Import data**"
      ]
    },
    {
      "cell_type": "code",
      "metadata": {
        "colab": {
          "base_uri": "https://localhost:8080/"
        },
        "id": "3GYy0Eiad-Kk",
        "outputId": "f0f72e57-d46f-49e0-880e-bd01f56b9bb6"
      },
      "source": [
        "from google.colab import drive\n",
        "drive.mount('/content/drive')\\"
      ],
      "execution_count": 1,
      "outputs": [
        {
          "output_type": "stream",
          "name": "stdout",
          "text": [
            "Drive already mounted at /content/drive; to attempt to forcibly remount, call drive.mount(\"/content/drive\", force_remount=True).\n"
          ]
        }
      ]
    },
    {
      "cell_type": "code",
      "metadata": {
        "id": "5yHx9f-ke70F",
        "colab": {
          "base_uri": "https://localhost:8080/"
        },
        "outputId": "ff2c1092-d492-4091-97ac-9fcb05e06b87"
      },
      "source": [
        "# Create folder data\n",
        "!mkdir data"
      ],
      "execution_count": 2,
      "outputs": [
        {
          "output_type": "stream",
          "name": "stdout",
          "text": [
            "mkdir: cannot create directory ‘data’: File exists\n"
          ]
        }
      ]
    },
    {
      "cell_type": "code",
      "metadata": {
        "id": "Rzcr-lj4grET"
      },
      "source": [
        "# Copy data from drive\n",
        "!cp /content/drive/MyDrive/Data/train-v0.4.tar.gz data/train-v0.4.tar.gz\n",
        "# !cp /content/drive/MyDrive/Data/test_images-v0.4.tar.gz data/test_images-v0.4.tar.gz"
      ],
      "execution_count": null,
      "outputs": []
    },
    {
      "cell_type": "code",
      "metadata": {
        "colab": {
          "base_uri": "https://localhost:8080/"
        },
        "id": "cqSBMj1rhUUk",
        "outputId": "0ae8911c-1f09-4d99-8dab-91791461dee2"
      },
      "source": [
        "%cd data/"
      ],
      "execution_count": 4,
      "outputs": [
        {
          "output_type": "stream",
          "name": "stdout",
          "text": [
            "/content/data\n"
          ]
        }
      ]
    },
    {
      "cell_type": "code",
      "metadata": {
        "id": "pviTZNQAiDTl"
      },
      "source": [
        "!for f in *.tar.gz; do tar xf \"$f\"; done"
      ],
      "execution_count": null,
      "outputs": []
    },
    {
      "cell_type": "code",
      "metadata": {
        "colab": {
          "base_uri": "https://localhost:8080/"
        },
        "id": "sgLkBd3D435h",
        "outputId": "9416e1b8-0609-4325-e90f-354033e4ca0f"
      },
      "source": [
        "%cd .."
      ],
      "execution_count": 6,
      "outputs": [
        {
          "output_type": "stream",
          "name": "stdout",
          "text": [
            "/content\n"
          ]
        }
      ]
    },
    {
      "cell_type": "markdown",
      "metadata": {
        "id": "VvBJ_OC75ATr"
      },
      "source": [
        "# **Preprocessing data**"
      ]
    },
    {
      "cell_type": "code",
      "metadata": {
        "id": "tCr5d80r5D9Q"
      },
      "source": [
        "!git clone https://gitlab.aicrowd.com/nikhil_rayaprolu/food-recognition/"
      ],
      "execution_count": null,
      "outputs": []
    },
    {
      "cell_type": "code",
      "metadata": {
        "colab": {
          "base_uri": "https://localhost:8080/"
        },
        "id": "u5W1S2Cq5gbG",
        "outputId": "f2063a13-ba2f-4770-ce7c-11631bef914a"
      },
      "source": [
        "%cd food-recognition/"
      ],
      "execution_count": 1,
      "outputs": [
        {
          "output_type": "stream",
          "name": "stdout",
          "text": [
            "/content/food-recognition\n"
          ]
        }
      ]
    },
    {
      "cell_type": "code",
      "metadata": {
        "id": "BzLrf2KX5eqy"
      },
      "source": [
        "!pip install -r requirements.txt"
      ],
      "execution_count": null,
      "outputs": []
    },
    {
      "cell_type": "code",
      "metadata": {
        "id": "cXLwNzzA71tp"
      },
      "source": [
        "!python setup.py install"
      ],
      "execution_count": null,
      "outputs": []
    },
    {
      "cell_type": "code",
      "metadata": {
        "colab": {
          "base_uri": "https://localhost:8080/"
        },
        "id": "8fliV2lO7NSr",
        "outputId": "7ab5d68f-d7d0-46cf-c23b-7e66ac5e80f1"
      },
      "source": [
        "%cd .."
      ],
      "execution_count": 4,
      "outputs": [
        {
          "output_type": "stream",
          "name": "stdout",
          "text": [
            "/content\n"
          ]
        }
      ]
    },
    {
      "cell_type": "code",
      "metadata": {
        "id": "Wxq0LR4u7WBo"
      },
      "source": [
        "import glob\n",
        "import os\n",
        "import pandas as pd\n",
        "from collections import OrderedDict\n",
        "from collections import defaultdict, Counter\n",
        "from imgaug import augmenters as iaa\n",
        "from matplotlib.patches import Polygon\n",
        "\n",
        "# Import Mask RCNN\n",
        "import mrcnn.model as modellib\n",
        "from mrcnn import utils\n",
        "from mrcnn import visualize\n",
        "from mrcnn.config import Config\n",
        "from mrcnn.model import log\n",
        "from mrcnn.visualize import display_images\n",
        "\n",
        "from pycocotools import mask as maskUtils\n",
        "from pycocotools.coco import COCO\n",
        "from pycocotools.cocoeval import COCOeval\n",
        "from tqdm import tqdm\n",
        "import cv2\n",
        "import itertools\n",
        "import json\n",
        "import logging\n",
        "import math\n",
        "import matplotlib\n",
        "import matplotlib.lines as lines\n",
        "import matplotlib.patches as patches\n",
        "import matplotlib.pyplot as plt\n",
        "\n",
        "import numpy as np\n",
        "import random\n",
        "import re\n",
        "import sys\n",
        "\n",
        "ROOT_DIR = os.path.abspath(\".\") # Root directory of the project\n",
        "\n",
        "sys.path.append(os.path.join('.', 'Mask_RCNN')) \n",
        "sys.path.append(ROOT_DIR)  # To find local version of the library"
      ],
      "execution_count": 2,
      "outputs": []
    },
    {
      "cell_type": "code",
      "metadata": {
        "colab": {
          "base_uri": "https://localhost:8080/"
        },
        "id": "FTqzFZCoR9ll",
        "outputId": "1c674ac5-c911-49ef-f08e-68468b7ff1a3"
      },
      "source": [
        "%cd data/"
      ],
      "execution_count": 11,
      "outputs": [
        {
          "output_type": "stream",
          "name": "stdout",
          "text": [
            "/content/data\n"
          ]
        }
      ]
    },
    {
      "cell_type": "code",
      "metadata": {
        "id": "OvG87ghW8d0m"
      },
      "source": [
        "class FoodChallengeDataset(utils.Dataset):\n",
        "    def load_dataset(self, dataset_dir, load_small=False, return_coco=True):\n",
        "        \"\"\" Loads dataset released for the AICrowd Food Challenge\n",
        "            Params:\n",
        "                - dataset_dir : root directory of the dataset (can point to the train/val folder)\n",
        "                - load_small : Boolean value which signals if the annotations for all the images need to be loaded into the memory,\n",
        "                               or if only a small subset of the same should be loaded into memory\n",
        "        \"\"\"\n",
        "        self.load_small = load_small\n",
        "        if self.load_small:\n",
        "            annotation_path = os.path.join(dataset_dir, \"annotation-small.json\")\n",
        "        else:\n",
        "            annotation_path = os.path.join(dataset_dir, \"annotations.json\")\n",
        "\n",
        "        image_dir = os.path.join(dataset_dir, \"images\")\n",
        "        print(\"Annotation Path \", annotation_path)\n",
        "        print(\"Image Dir \", image_dir)\n",
        "        assert os.path.exists(annotation_path) and os.path.exists(image_dir)\n",
        "\n",
        "        self.coco = COCO(annotation_path)\n",
        "        self.image_dir = image_dir\n",
        "\n",
        "        # Load all classes (Only Building in this version)\n",
        "        classIds = self.coco.getCatIds()\n",
        "\n",
        "        # Load all images\n",
        "        image_ids = list(self.coco.imgs.keys())\n",
        "\n",
        "        # register classes\n",
        "        for _class_id in classIds:\n",
        "            self.add_class(\"crowdai-food-challenge\", _class_id, self.coco.loadCats(_class_id)[0][\"name\"])\n",
        "\n",
        "        # Register Images\n",
        "        for _img_id in image_ids:\n",
        "            assert(os.path.exists(os.path.join(image_dir, self.coco.imgs[_img_id]['file_name'])))\n",
        "            self.add_image(\n",
        "                \"crowdai-food-challenge\", image_id=_img_id,\n",
        "                path=os.path.join(image_dir, self.coco.imgs[_img_id]['file_name']),\n",
        "                width=self.coco.imgs[_img_id][\"width\"],\n",
        "                height=self.coco.imgs[_img_id][\"height\"],\n",
        "                annotations=self.coco.loadAnns(self.coco.getAnnIds(\n",
        "                                            imgIds=[_img_id],\n",
        "                                            catIds=classIds,\n",
        "                                            iscrowd=None)))\n",
        "\n",
        "        if return_coco:\n",
        "            return self.coco\n",
        "\n",
        "    def load_mask(self, image_id):\n",
        "        \"\"\" Loads instance mask for a given image\n",
        "              This function converts mask from the coco format to a\n",
        "              a bitmap [height, width, instance]\n",
        "            Params:\n",
        "                - image_id : reference id for a given image\n",
        "\n",
        "            Returns:\n",
        "                masks : A bool array of shape [height, width, instances] with\n",
        "                    one mask per instance\n",
        "                class_ids : a 1D array of classIds of the corresponding instance masks\n",
        "                    (In this version of the challenge it will be of shape [instances] and always be filled with the class-id of the \"Building\" class.)\n",
        "        \"\"\"\n",
        "\n",
        "        image_info = self.image_info[image_id]\n",
        "        assert image_info[\"source\"] == \"crowdai-food-challenge\"\n",
        "\n",
        "        instance_masks = []\n",
        "        class_ids = []\n",
        "        annotations = self.image_info[image_id][\"annotations\"]\n",
        "        # Build mask of shape [height, width, instance_count] and list\n",
        "        # of class IDs that correspond to each channel of the mask.\n",
        "        for annotation in annotations:\n",
        "            class_id = self.map_source_class_id(\n",
        "                \"crowdai-food-challenge.{}\".format(annotation['category_id']))\n",
        "            if class_id:\n",
        "                m = self.annToMask(annotation,  image_info[\"height\"],\n",
        "                                                image_info[\"width\"])\n",
        "                # Some objects are so small that they're less than 1 pixel area\n",
        "                # and end up rounded out. Skip those objects.\n",
        "                if m.max() < 1:\n",
        "                    continue\n",
        "\n",
        "                # Ignore the notion of \"is_crowd\" as specified in the coco format\n",
        "                # as we donot have the said annotation in the current version of the dataset\n",
        "\n",
        "                instance_masks.append(m)\n",
        "                class_ids.append(class_id)\n",
        "        # Pack instance masks into an array\n",
        "        if class_ids:\n",
        "            mask = np.stack(instance_masks, axis=2)\n",
        "            class_ids = np.array(class_ids, dtype=np.int32)\n",
        "            return mask, class_ids\n",
        "        else:\n",
        "            # Call super class to return an empty mask\n",
        "            return super(FoodChallengeDataset, self).load_mask(image_id)\n",
        "\n",
        "\n",
        "    def image_reference(self, image_id):\n",
        "        \"\"\"Return a reference for a particular image\n",
        "\n",
        "            Ideally you this function is supposed to return a URL\n",
        "            but in this case, we will simply return the image_id\n",
        "        \"\"\"\n",
        "        return \"crowdai-food-challenge::{}\".format(image_id)\n",
        "    # The following two functions are from pycocotools with a few changes.\n",
        "\n",
        "    def annToRLE(self, ann, height, width):\n",
        "        \"\"\"\n",
        "        Convert annotation which can be polygons, uncompressed RLE to RLE.\n",
        "        :return: binary mask (numpy 2D array)\n",
        "        \"\"\"\n",
        "        segm = ann['segmentation']\n",
        "        if isinstance(segm, list):\n",
        "            # polygon -- a single object might consist of multiple parts\n",
        "            # we merge all parts into one mask rle code\n",
        "            rles = maskUtils.frPyObjects(segm, height, width)\n",
        "            rle = maskUtils.merge(rles)\n",
        "        elif isinstance(segm['counts'], list):\n",
        "            # uncompressed RLE\n",
        "            rle = maskUtils.frPyObjects(segm, height, width)\n",
        "        else:\n",
        "            # rle\n",
        "            rle = ann['segmentation']\n",
        "        return rle\n",
        "\n",
        "    def annToMask(self, ann, height, width):\n",
        "        \"\"\"\n",
        "        Convert annotation which can be polygons, uncompressed RLE, or RLE to binary mask.\n",
        "        :return: binary mask (numpy 2D array)\n",
        "        \"\"\"\n",
        "        rle = self.annToRLE(ann, height, width)\n",
        "        m = maskUtils.decode(rle)\n",
        "        return m"
      ],
      "execution_count": 9,
      "outputs": []
    },
    {
      "cell_type": "code",
      "metadata": {
        "colab": {
          "base_uri": "https://localhost:8080/"
        },
        "id": "jIl9umM18lii",
        "outputId": "0687819a-d457-4d75-9d7a-ec3a7c75c168"
      },
      "source": [
        "# From mrcnn.dataset import FoodChallengeDataset\n",
        "dataset_train = FoodChallengeDataset()\n",
        "# dataset_train.load_dataset(dataset_dir=os.path.join(\"content/train\", \"train\"), load_small=False)\n",
        "dataset_train.load_dataset(dataset_dir=\"train\", load_small=False)\n",
        "dataset_train.prepare()\n",
        "dataset = dataset_train"
      ],
      "execution_count": 12,
      "outputs": [
        {
          "output_type": "stream",
          "name": "stdout",
          "text": [
            "Annotation Path  train/annotations.json\n",
            "Image Dir  train/images\n",
            "loading annotations into memory...\n",
            "Done (t=1.95s)\n",
            "creating index...\n",
            "index created!\n"
          ]
        }
      ]
    },
    {
      "cell_type": "code",
      "metadata": {
        "colab": {
          "base_uri": "https://localhost:8080/"
        },
        "id": "6j3JToJpSOwA",
        "outputId": "e69c8c12-486f-455a-fc5e-63496cddd9bf"
      },
      "source": [
        "print(\"Image Count: {}\".format(len(dataset_train.image_ids)))\n",
        "print(\"Class Count: {}\".format(dataset_train.num_classes))"
      ],
      "execution_count": 13,
      "outputs": [
        {
          "output_type": "stream",
          "name": "stdout",
          "text": [
            "Image Count: 24119\n",
            "Class Count: 274\n"
          ]
        }
      ]
    },
    {
      "cell_type": "code",
      "metadata": {
        "colab": {
          "base_uri": "https://localhost:8080/"
        },
        "id": "9PS43PPM8iPE",
        "outputId": "a6b59cda-fba6-430a-8747-a415f8f48d9c"
      },
      "source": [
        "from mrcnn.config import Config\n",
        "class FoodChallengeConfig(Config):\n",
        "    \"\"\"Configuration for training on data in MS COCO format.\n",
        "    Derives from the base Config class and overrides values specific\n",
        "    to the COCO dataset.\n",
        "    \"\"\"\n",
        "    # Give the configuration a recognizable name\n",
        "    NAME = \"crowdai-food-challenge\"\n",
        "\n",
        "    # We use a GPU with 12GB memory, which can fit two images.\n",
        "    # Adjust down if you use a smaller GPU.\n",
        "    IMAGES_PER_GPU = 2\n",
        "\n",
        "    # Uncomment to train on 8 GPUs (default is 1)\n",
        "    GPU_COUNT = 1\n",
        "    BACKBONE = 'resnet50'\n",
        "    # Number of classes (including background)\n",
        "    NUM_CLASSES = 274  # 1 Background + 273 classes\n",
        "\n",
        "    STEPS_PER_EPOCH= 2\n",
        "    VALIDATION_STEPS= 2\n",
        "\n",
        "    LEARNING_RATE=0.001\n",
        "    IMAGE_MAX_DIM=256\n",
        "    IMAGE_MIN_DIM=256\n",
        "config = FoodChallengeConfig()\n",
        "config.display()"
      ],
      "execution_count": 27,
      "outputs": [
        {
          "output_type": "stream",
          "name": "stdout",
          "text": [
            "\n",
            "Configurations:\n",
            "BACKBONE                       resnet50\n",
            "BACKBONE_STRIDES               [4, 8, 16, 32, 64]\n",
            "BATCH_SIZE                     2\n",
            "BBOX_STD_DEV                   [0.1 0.1 0.2 0.2]\n",
            "DETECTION_MAX_INSTANCES        100\n",
            "DETECTION_MIN_CONFIDENCE       0.7\n",
            "DETECTION_NMS_THRESHOLD        0.3\n",
            "GPU_COUNT                      1\n",
            "GRADIENT_CLIP_NORM             5.0\n",
            "IMAGES_PER_GPU                 2\n",
            "IMAGE_MAX_DIM                  256\n",
            "IMAGE_META_SIZE                286\n",
            "IMAGE_MIN_DIM                  256\n",
            "IMAGE_RESIZE_MODE              square\n",
            "IMAGE_SHAPE                    [256 256   3]\n",
            "LEARNING_MOMENTUM              0.9\n",
            "LEARNING_RATE                  0.001\n",
            "MASK_POOL_SIZE                 14\n",
            "MASK_SHAPE                     [28, 28]\n",
            "MAX_GT_INSTANCES               100\n",
            "MEAN_PIXEL                     [123.7 116.8 103.9]\n",
            "MINI_MASK_SHAPE                (56, 56)\n",
            "NAME                           crowdai-food-challenge\n",
            "NUM_CLASSES                    274\n",
            "POOL_SIZE                      7\n",
            "POST_NMS_ROIS_INFERENCE        1000\n",
            "POST_NMS_ROIS_TRAINING         2000\n",
            "ROI_POSITIVE_RATIO             0.33\n",
            "RPN_ANCHOR_RATIOS              [0.5, 1, 2]\n",
            "RPN_ANCHOR_SCALES              (32, 64, 128, 256, 512)\n",
            "RPN_ANCHOR_STRIDE              1\n",
            "RPN_BBOX_STD_DEV               [0.1 0.1 0.2 0.2]\n",
            "RPN_NMS_THRESHOLD              0.7\n",
            "RPN_TRAIN_ANCHORS_PER_IMAGE    256\n",
            "STEPS_PER_EPOCH                2\n",
            "TRAIN_BN                       False\n",
            "TRAIN_ROIS_PER_IMAGE           200\n",
            "USE_MINI_MASK                  True\n",
            "USE_RPN_ROIS                   True\n",
            "VALIDATION_STEPS               2\n",
            "WEIGHT_DECAY                   0.0001\n",
            "\n",
            "\n"
          ]
        }
      ]
    },
    {
      "cell_type": "markdown",
      "metadata": {
        "id": "mPMFbC1a84QR"
      },
      "source": [
        "# **Data discovery**\n"
      ]
    },
    {
      "cell_type": "code",
      "metadata": {
        "id": "EaWG1Fh886tI"
      },
      "source": [
        "from collections import Counter\n",
        "class_counts = Counter()\n",
        "for img_info in dataset_train.image_info:\n",
        "    ann = img_info['annotations']\n",
        "    for i in ann:\n",
        "        class_counts[i['category_id']] += 1\n",
        "class_mapping = {i['id']: i['name'] for i in dataset_train.class_info}\n",
        "\n",
        "class_counts = pd.DataFrame(class_counts.most_common(), columns=['class_name', 'count'])\n",
        "class_counts['class_name'] = class_counts['class_name'].apply(lambda x: class_mapping[x])\n",
        "plt.figure(figsize=(12, 12))\n",
        "plt.barh(class_counts['class_name'], class_counts['count'])\n",
        "plt.title('Counts of classes of objects');"
      ],
      "execution_count": null,
      "outputs": []
    },
    {
      "cell_type": "code",
      "metadata": {
        "id": "oJnA-9RX9Ce7"
      },
      "source": [
        "print(f'There are {class_counts.shape[0]} classes.')"
      ],
      "execution_count": null,
      "outputs": []
    },
    {
      "cell_type": "code",
      "metadata": {
        "id": "eGIrf9OT9FgS"
      },
      "source": [
        "# Load random image and mask.\n",
        "image_id = random.choice(dataset.image_ids)\n",
        "image = dataset.load_image(image_id)\n",
        "mask, class_ids = dataset.load_mask(image_id)\n",
        "# Compute Bounding box\n",
        "bbox = utils.extract_bboxes(mask)\n",
        "\n",
        "# Display image and additional stats\n",
        "print(\"image_id \", image_id, dataset.image_reference(image_id))\n",
        "log(\"image\", image)\n",
        "log(\"mask\", mask)\n",
        "log(\"class_ids\", class_ids)\n",
        "log(\"bbox\", bbox)\n",
        "# Display image and instances\n",
        "visualize.display_instances(image, bbox, mask, class_ids, dataset.class_names, figsize=(12, 12))"
      ],
      "execution_count": null,
      "outputs": []
    },
    {
      "cell_type": "code",
      "metadata": {
        "id": "WNNT4F5R9OjT"
      },
      "source": [
        "dataset_train.image_info[0]"
      ],
      "execution_count": null,
      "outputs": []
    },
    {
      "cell_type": "markdown",
      "metadata": {
        "id": "Lmu1L5cy9Pnc"
      },
      "source": [
        "# **Mask**"
      ]
    },
    {
      "cell_type": "code",
      "metadata": {
        "id": "nTooPsPA9RUa"
      },
      "source": [
        "class_images = defaultdict(list)\n",
        "for ind, img_info in enumerate(dataset_train.image_info):\n",
        "    ann = img_info['annotations']\n",
        "    for i in ann:\n",
        "        class_images[i['category_id']].append(ind)"
      ],
      "execution_count": null,
      "outputs": []
    },
    {
      "cell_type": "code",
      "metadata": {
        "id": "K2aNyTp89ZDM"
      },
      "source": [
        "image_ids = np.random.choice(dataset.image_ids, 4)\n",
        "for class_id in np.random.choice(list(class_images.keys()), 10):\n",
        "    image_id = np.random.choice(class_images[class_id], 1)[0]\n",
        "    image = dataset.load_image(image_id)\n",
        "    mask, class_ids = dataset.load_mask(image_id)\n",
        "    visualize.display_top_masks(image, mask, class_ids, dataset.class_names)"
      ],
      "execution_count": null,
      "outputs": []
    },
    {
      "cell_type": "markdown",
      "metadata": {
        "id": "bfLjaM8A9c6e"
      },
      "source": [
        "# Bounding Boxes"
      ]
    },
    {
      "cell_type": "code",
      "metadata": {
        "id": "dg38I1CM9e7p"
      },
      "source": [
        "for idx, class_id in enumerate(np.random.choice(list(class_images.keys()), 10)):\n",
        "    image_id = np.random.choice(class_images[class_id], 1)[0]\n",
        "    image = dataset.load_image(image_id)\n",
        "    mask, class_ids = dataset.load_mask(image_id)\n",
        "    # Compute Bounding box\n",
        "    bbox = utils.extract_bboxes(mask)\n",
        "    visualize.display_instances(image, bbox, mask, class_ids, dataset.class_names, figsize=(8, 8))"
      ],
      "execution_count": null,
      "outputs": []
    },
    {
      "cell_type": "markdown",
      "metadata": {
        "id": "6EpbZI-cTIJF"
      },
      "source": [
        "# **Anchors**"
      ]
    },
    {
      "cell_type": "code",
      "metadata": {
        "id": "VcEnbTS4TY8-"
      },
      "source": [
        "# Generate Anchors\n",
        "\n",
        "backbone_shapes = modellib.compute_backbone_shapes(config, config.IMAGE_SHAPE)\n",
        "anchors = utils.generate_pyramid_anchors(config.RPN_ANCHOR_SCALES, \n",
        "                                          config.RPN_ANCHOR_RATIOS,\n",
        "                                          backbone_shapes,\n",
        "                                          config.BACKBONE_STRIDES, \n",
        "                                          config.RPN_ANCHOR_STRIDE)\n",
        "\n",
        "# Print summary of anchors\n",
        "num_levels = len(backbone_shapes)\n",
        "anchors_per_cell = len(config.RPN_ANCHOR_RATIOS)\n",
        "print(\"Count: \", anchors.shape[0])\n",
        "print(\"Scales: \", config.RPN_ANCHOR_SCALES)\n",
        "print(\"ratios: \", config.RPN_ANCHOR_RATIOS)\n",
        "print(\"Anchors per Cell: \", anchors_per_cell)\n",
        "print(\"Levels: \", num_levels)\n",
        "anchors_per_level = []\n",
        "for l in range(num_levels):\n",
        "    num_cells = backbone_shapes[l][0] * backbone_shapes[l][1]\n",
        "    anchors_per_level.append(anchors_per_cell * num_cells // config.RPN_ANCHOR_STRIDE**2)\n",
        "    print(\"Anchors in Level {}: {}\".format(l, anchors_per_level[l]))"
      ],
      "execution_count": null,
      "outputs": []
    },
    {
      "cell_type": "code",
      "metadata": {
        "id": "vl6diPGxTwTs"
      },
      "source": [
        "## Visualize anchors of one cell at the center of the feature map of a specific level\n",
        "\n",
        "# Load and draw random image\n",
        "image_id = np.random.choice(dataset.image_ids, 1)[0]\n",
        "image, image_meta, _, _, _ = modellib.load_image_gt(dataset, config, image_id)\n",
        "fig, ax = plt.subplots(1, figsize=(10, 10))\n",
        "ax.imshow(image)\n",
        "levels = len(backbone_shapes)\n",
        "\n",
        "for level in range(levels):\n",
        "    colors = visualize.random_colors(levels)\n",
        "    # Compute the index of the anchors at the center of the image\n",
        "    level_start = sum(anchors_per_level[:level]) # sum of anchors of previous levels\n",
        "    level_anchors = anchors[level_start:level_start+anchors_per_level[level]]\n",
        "    print(\"Level {}. Anchors: {:6}  Feature map Shape: {}\".format(level, level_anchors.shape[0], \n",
        "                                                                  backbone_shapes[level]))\n",
        "    center_cell = backbone_shapes[level] // 2\n",
        "    center_cell_index = (center_cell[0] * backbone_shapes[level][1] + center_cell[1])\n",
        "    level_center = center_cell_index * anchors_per_cell \n",
        "    center_anchor = anchors_per_cell * (\n",
        "        (center_cell[0] * backbone_shapes[level][1] / config.RPN_ANCHOR_STRIDE**2) \\\n",
        "        + center_cell[1] / config.RPN_ANCHOR_STRIDE)\n",
        "    level_center = int(center_anchor)\n",
        "\n",
        "    # Draw anchors. Brightness show the order in the array, dark to bright.\n",
        "    for i, rect in enumerate(level_anchors[level_center:level_center+anchors_per_cell]):\n",
        "        y1, x1, y2, x2 = rect\n",
        "        p = patches.Rectangle((x1, y1), x2-x1, y2-y1, linewidth=2, facecolor='none',\n",
        "                              edgecolor=(i+1)*np.array(colors[level]) / anchors_per_cell)\n",
        "        ax.add_patch(p)"
      ],
      "execution_count": null,
      "outputs": []
    },
    {
      "cell_type": "code",
      "metadata": {
        "id": "zMdnCenNUR6e"
      },
      "source": [
        "# Create data generator\n",
        "random_rois = 2000\n",
        "g = modellib.data_generator(\n",
        "    dataset, config, shuffle=True, random_rois=random_rois, \n",
        "    batch_size=4,\n",
        "    detection_targets=True)"
      ],
      "execution_count": null,
      "outputs": []
    },
    {
      "cell_type": "code",
      "metadata": {
        "id": "pDO3Cl5AUXmT"
      },
      "source": [
        "# Get Next Image\n",
        "if random_rois:\n",
        "    [normalized_images, image_meta, rpn_match, rpn_bbox, gt_class_ids, gt_boxes, gt_masks, rpn_rois, rois], \\\n",
        "    [mrcnn_class_ids, mrcnn_bbox, mrcnn_mask] = next(g)\n",
        "    \n",
        "    log(\"rois\", rois)\n",
        "    log(\"mrcnn_class_ids\", mrcnn_class_ids)\n",
        "    log(\"mrcnn_bbox\", mrcnn_bbox)\n",
        "    log(\"mrcnn_mask\", mrcnn_mask)\n",
        "else:\n",
        "    [normalized_images, image_meta, rpn_match, rpn_bbox, gt_boxes, gt_masks], _ = next(g)\n",
        "    \n",
        "log(\"gt_class_ids\", gt_class_ids)\n",
        "log(\"gt_boxes\", gt_boxes)\n",
        "log(\"gt_masks\", gt_masks)\n",
        "log(\"rpn_match\", rpn_match, )\n",
        "log(\"rpn_bbox\", rpn_bbox)\n",
        "image_id = modellib.parse_image_meta(image_meta)[\"image_id\"][0]\n",
        "print(\"image_id: \", image_id, dataset.image_reference(image_id))\n",
        "\n",
        "# Remove the last dim in mrcnn_class_ids. It's only added\n",
        "# to satisfy Keras restriction on target shape.\n",
        "mrcnn_class_ids = mrcnn_class_ids[:,:,0]"
      ],
      "execution_count": null,
      "outputs": []
    },
    {
      "cell_type": "code",
      "metadata": {
        "id": "0MY28g3KUec7"
      },
      "source": [
        "b = 0\n",
        "\n",
        "# Restore original image (reverse normalization)\n",
        "sample_image = modellib.unmold_image(normalized_images[b], config)\n",
        "\n",
        "# Compute anchor shifts.\n",
        "indices = np.where(rpn_match[b] == 1)[0]\n",
        "refined_anchors = utils.apply_box_deltas(anchors[indices], rpn_bbox[b, :len(indices)] * config.RPN_BBOX_STD_DEV)\n",
        "log(\"anchors\", anchors)\n",
        "log(\"refined_anchors\", refined_anchors)\n",
        "\n",
        "# Get list of positive anchors\n",
        "positive_anchor_ids = np.where(rpn_match[b] == 1)[0]\n",
        "print(\"Positive anchors: {}\".format(len(positive_anchor_ids)))\n",
        "negative_anchor_ids = np.where(rpn_match[b] == -1)[0]\n",
        "print(\"Negative anchors: {}\".format(len(negative_anchor_ids)))\n",
        "neutral_anchor_ids = np.where(rpn_match[b] == 0)[0]\n",
        "print(\"Neutral anchors: {}\".format(len(neutral_anchor_ids)))\n",
        "\n",
        "# ROI breakdown by class\n",
        "for c, n in zip(dataset.class_names, np.bincount(mrcnn_class_ids[b].flatten())):\n",
        "    if n:\n",
        "        print(\"{:23}: {}\".format(c[:20], n))\n",
        "\n",
        "# Show positive anchors\n",
        "visualize.draw_boxes(sample_image, boxes=anchors[positive_anchor_ids], \n",
        "                     refined_boxes=refined_anchors)"
      ],
      "execution_count": null,
      "outputs": []
    },
    {
      "cell_type": "code",
      "metadata": {
        "id": "GsaWRFJ7UzbJ"
      },
      "source": [
        "# Show negative anchors\n",
        "visualize.draw_boxes(sample_image, boxes=anchors[negative_anchor_ids])"
      ],
      "execution_count": null,
      "outputs": []
    },
    {
      "cell_type": "code",
      "metadata": {
        "id": "OrRRfcOzU-M_"
      },
      "source": [
        "# Show neutral anchors. They don't contribute to training.\n",
        "visualize.draw_boxes(sample_image, boxes=anchors[np.random.choice(neutral_anchor_ids, 100)])"
      ],
      "execution_count": null,
      "outputs": []
    },
    {
      "cell_type": "markdown",
      "metadata": {
        "id": "5SVxPC0yUEOw"
      },
      "source": [
        "# **ROIs**"
      ]
    },
    {
      "cell_type": "code",
      "metadata": {
        "id": "OYPIAMVZUIIB"
      },
      "source": [
        "if random_rois:\n",
        "    # Class aware bboxes\n",
        "    bbox_specific = mrcnn_bbox[b, np.arange(mrcnn_bbox.shape[1]), mrcnn_class_ids[b], :]\n",
        "\n",
        "    # Refined ROIs\n",
        "    refined_rois = utils.apply_box_deltas(rois[b].astype(np.float32), bbox_specific[:,:4] * config.BBOX_STD_DEV)\n",
        "\n",
        "    # Class aware masks\n",
        "    mask_specific = mrcnn_mask[b, np.arange(mrcnn_mask.shape[1]), :, :, mrcnn_class_ids[b]]\n",
        "\n",
        "    visualize.draw_rois(sample_image, rois[b], refined_rois, mask_specific, mrcnn_class_ids[b], dataset.class_names)\n",
        "    \n",
        "    # Any repeated ROIs?\n",
        "    rows = np.ascontiguousarray(rois[b]).view(np.dtype((np.void, rois.dtype.itemsize * rois.shape[-1])))\n",
        "    _, idx = np.unique(rows, return_index=True)\n",
        "    print(\"Unique ROIs: {} out of {}\".format(len(idx), rois.shape[1]))"
      ],
      "execution_count": null,
      "outputs": []
    },
    {
      "cell_type": "code",
      "metadata": {
        "id": "1kc9ylLvVDE3"
      },
      "source": [
        "if random_rois:\n",
        "    # Dispalay ROIs and corresponding masks and bounding boxes\n",
        "    ids = random.sample(range(rois.shape[1]), 8)\n",
        "\n",
        "    images = []\n",
        "    titles = []\n",
        "    for i in ids:\n",
        "        image = visualize.draw_box(sample_image.copy(), rois[b,i,:4].astype(np.int32), [255, 0, 0])\n",
        "        image = visualize.draw_box(image, refined_rois[i].astype(np.int64), [0, 255, 0])\n",
        "        images.append(image)\n",
        "        titles.append(\"ROI {}\".format(i))\n",
        "        images.append(mask_specific[i] * 255)\n",
        "        titles.append(dataset.class_names[mrcnn_class_ids[b,i]][:20])\n",
        "\n",
        "    display_images(images, titles, cols=4, cmap=\"Blues\", interpolation=\"none\")"
      ],
      "execution_count": null,
      "outputs": []
    },
    {
      "cell_type": "code",
      "metadata": {
        "id": "k9PDwfLDVUZX"
      },
      "source": [
        "# Check ratio of positive ROIs in a set of images.\n",
        "if random_rois:\n",
        "    limit = 10\n",
        "    temp_g = modellib.data_generator(\n",
        "        dataset, config, shuffle=True, random_rois=10000, \n",
        "        batch_size=1, detection_targets=True)\n",
        "    total = 0\n",
        "    for i in range(limit):\n",
        "        _, [ids, _, _] = next(temp_g)\n",
        "        positive_rois = np.sum(ids[0] > 0)\n",
        "        total += positive_rois\n",
        "        print(\"{:5} {:5.2f}\".format(positive_rois, positive_rois/ids.shape[1]))\n",
        "    print(\"Average percent: {:.2f}\".format(total/(limit*ids.shape[1])))"
      ],
      "execution_count": null,
      "outputs": []
    },
    {
      "cell_type": "markdown",
      "metadata": {
        "id": "HHycGipiV57e"
      },
      "source": [
        "# **Training the Mask RCNN model (Tensorflow)**"
      ]
    },
    {
      "cell_type": "code",
      "metadata": {
        "id": "coAcUHOGbW7m"
      },
      "source": [
        "!pip install 'h5py==2.10.0' --force-reinstall"
      ],
      "execution_count": null,
      "outputs": []
    },
    {
      "cell_type": "code",
      "metadata": {
        "id": "PVs1mjWFfAV5"
      },
      "source": [
        "!pip install -U scikit-image==0.16.2"
      ],
      "execution_count": null,
      "outputs": []
    },
    {
      "cell_type": "code",
      "metadata": {
        "colab": {
          "base_uri": "https://localhost:8080/"
        },
        "id": "sM5W9B-lWNzi",
        "outputId": "1a2a443a-f3f7-4436-fb6f-e664029a4e40"
      },
      "source": [
        "%cd .."
      ],
      "execution_count": 15,
      "outputs": [
        {
          "output_type": "stream",
          "name": "stdout",
          "text": [
            "/content\n"
          ]
        }
      ]
    },
    {
      "cell_type": "code",
      "metadata": {
        "id": "Fha0n3dxWTkg"
      },
      "source": [
        "!mkdir pretrained"
      ],
      "execution_count": null,
      "outputs": []
    },
    {
      "cell_type": "code",
      "metadata": {
        "id": "2O4yhXpzWYEp"
      },
      "source": [
        "PRETRAINED_MODEL_PATH = os.path.join(\"pretrained\", \"mask_rcnn_coco.h5\")\n",
        "LOGS_DIRECTORY = os.path.join(ROOT_DIR, \"logs\")\n",
        "if not os.path.exists(PRETRAINED_MODEL_PATH):\n",
        "    utils.download_trained_weights(PRETRAINED_MODEL_PATH)"
      ],
      "execution_count": 4,
      "outputs": []
    },
    {
      "cell_type": "code",
      "metadata": {
        "id": "_UaTzc7cfXKC"
      },
      "source": [
        "import tensorflow.compat.v1 as tf\n"
      ],
      "execution_count": 6,
      "outputs": []
    },
    {
      "cell_type": "code",
      "metadata": {
        "colab": {
          "base_uri": "https://localhost:8080/"
        },
        "id": "e3bSr7JWWbtq",
        "outputId": "b6e34775-bc54-4a2e-bab1-66fb9e0ba790"
      },
      "source": [
        "from keras import backend as K\n",
        "K.tensorflow_backend._get_available_gpus()"
      ],
      "execution_count": 7,
      "outputs": [
        {
          "output_type": "execute_result",
          "data": {
            "text/plain": [
              "[]"
            ]
          },
          "metadata": {},
          "execution_count": 7
        }
      ]
    },
    {
      "cell_type": "code",
      "metadata": {
        "id": "HZIVFT-vakrZ"
      },
      "source": [
        "import keras.backend\n",
        "K = keras.backend.backend()\n",
        "if K=='tensorflow':\n",
        "    keras.backend.common.image_dim_ordering()\n",
        "model = modellib.MaskRCNN(mode=\"training\", config=config, model_dir=LOGS_DIRECTORY)\n",
        "model_path = PRETRAINED_MODEL_PATH\n",
        "model.load_weights(model_path, by_name=True, exclude=[\"mrcnn_class_logits\", \"mrcnn_bbox_fc\",  \"mrcnn_bbox\", \"mrcnn_mask\"])"
      ],
      "execution_count": null,
      "outputs": []
    },
    {
      "cell_type": "code",
      "metadata": {
        "colab": {
          "base_uri": "https://localhost:8080/"
        },
        "id": "23kWMiancyT8",
        "outputId": "d457fb68-c7bc-4093-9550-fcd7a5c8d78e"
      },
      "source": [
        "%cd data/"
      ],
      "execution_count": 18,
      "outputs": [
        {
          "output_type": "stream",
          "name": "stdout",
          "text": [
            "/content/data\n"
          ]
        }
      ]
    },
    {
      "cell_type": "code",
      "metadata": {
        "colab": {
          "base_uri": "https://localhost:8080/"
        },
        "id": "_KRS_mlNcjpv",
        "outputId": "f799cffe-d0ad-44af-d81d-a0603d76427d"
      },
      "source": [
        "dataset_train = FoodChallengeDataset()\n",
        "dataset_train.load_dataset(dataset_dir=\"train\", load_small=False)\n",
        "dataset_train.prepare()"
      ],
      "execution_count": 19,
      "outputs": [
        {
          "output_type": "stream",
          "name": "stdout",
          "text": [
            "Annotation Path  train/annotations.json\n",
            "Image Dir  train/images\n",
            "loading annotations into memory...\n",
            "Done (t=2.11s)\n",
            "creating index...\n",
            "index created!\n"
          ]
        }
      ]
    },
    {
      "cell_type": "code",
      "metadata": {
        "colab": {
          "base_uri": "https://localhost:8080/"
        },
        "id": "T-lXevXfdLbS",
        "outputId": "4ec869ec-c47b-4e67-b074-2178150ffbc4"
      },
      "source": [
        "dataset_val = FoodChallengeDataset()\n",
        "val_coco = dataset_val.load_dataset(dataset_dir='/content/data/val', load_small=False, return_coco=True)\n",
        "dataset_val.prepare()"
      ],
      "execution_count": 20,
      "outputs": [
        {
          "output_type": "stream",
          "name": "stdout",
          "text": [
            "Annotation Path  /content/data/val/annotations.json\n",
            "Image Dir  /content/data/val/images\n",
            "loading annotations into memory...\n",
            "Done (t=0.10s)\n",
            "creating index...\n",
            "index created!\n"
          ]
        }
      ]
    },
    {
      "cell_type": "code",
      "metadata": {
        "id": "IutU9Y5EdQH3"
      },
      "source": [
        "class_names = dataset_train.class_names\n",
        "assert len(class_names)==274, \"Please check DatasetConfig\""
      ],
      "execution_count": 21,
      "outputs": []
    },
    {
      "cell_type": "code",
      "metadata": {
        "colab": {
          "base_uri": "https://localhost:8080/"
        },
        "id": "tp5Q9qPsdaaN",
        "outputId": "4c5a98d1-2d8c-47ca-9953-006140424d7d"
      },
      "source": [
        "print(\"Training network\")\n",
        "model.train(dataset_train, dataset_val,\n",
        "            learning_rate=config.LEARNING_RATE,\n",
        "            epochs=2,   \n",
        "            layers='heads')"
      ],
      "execution_count": 28,
      "outputs": [
        {
          "metadata": {
            "tags": null
          },
          "name": "stdout",
          "output_type": "stream",
          "text": [
            "Training network\n",
            "\n",
            "Starting at epoch 0. LR=0.001\n",
            "\n",
            "Checkpoint Path: /content/logs/crowdai-food-challenge20211202T0455/mask_rcnn_crowdai-food-challenge_{epoch:04d}.h5\n",
            "Selecting layers to train\n",
            "fpn_c5p5               (Conv2D)\n",
            "fpn_c4p4               (Conv2D)\n",
            "fpn_c3p3               (Conv2D)\n",
            "fpn_c2p2               (Conv2D)\n",
            "fpn_p5                 (Conv2D)\n",
            "fpn_p2                 (Conv2D)\n",
            "fpn_p3                 (Conv2D)\n",
            "fpn_p4                 (Conv2D)\n",
            "In model:  rpn_model\n",
            "    rpn_conv_shared        (Conv2D)\n",
            "    rpn_class_raw          (Conv2D)\n",
            "    rpn_bbox_pred          (Conv2D)\n",
            "mrcnn_mask_conv1       (TimeDistributed)\n",
            "mrcnn_mask_bn1         (TimeDistributed)\n",
            "mrcnn_mask_conv2       (TimeDistributed)\n",
            "mrcnn_mask_bn2         (TimeDistributed)\n",
            "mrcnn_class_conv1      (TimeDistributed)\n",
            "mrcnn_class_bn1        (TimeDistributed)\n",
            "mrcnn_mask_conv3       (TimeDistributed)\n",
            "mrcnn_mask_bn3         (TimeDistributed)\n",
            "mrcnn_class_conv2      (TimeDistributed)\n",
            "mrcnn_class_bn2        (TimeDistributed)\n",
            "mrcnn_mask_conv4       (TimeDistributed)\n",
            "mrcnn_mask_bn4         (TimeDistributed)\n",
            "mrcnn_bbox_fc          (TimeDistributed)\n",
            "mrcnn_mask_deconv      (TimeDistributed)\n",
            "mrcnn_class_logits     (TimeDistributed)\n",
            "mrcnn_mask             (TimeDistributed)\n"
          ]
        },
        {
          "metadata": {
            "tags": null
          },
          "name": "stderr",
          "output_type": "stream",
          "text": [
            "/usr/local/lib/python3.7/dist-packages/tensorflow_core/python/framework/indexed_slices.py:424: UserWarning: Converting sparse IndexedSlices to a dense Tensor of unknown shape. This may consume a large amount of memory.\n",
            "  \"Converting sparse IndexedSlices to a dense Tensor of unknown shape. \"\n",
            "/usr/local/lib/python3.7/dist-packages/tensorflow_core/python/framework/indexed_slices.py:424: UserWarning: Converting sparse IndexedSlices to a dense Tensor of unknown shape. This may consume a large amount of memory.\n",
            "  \"Converting sparse IndexedSlices to a dense Tensor of unknown shape. \"\n",
            "/usr/local/lib/python3.7/dist-packages/tensorflow_core/python/framework/indexed_slices.py:424: UserWarning: Converting sparse IndexedSlices to a dense Tensor of unknown shape. This may consume a large amount of memory.\n",
            "  \"Converting sparse IndexedSlices to a dense Tensor of unknown shape. \"\n",
            "/usr/local/lib/python3.7/dist-packages/keras/engine/training.py:2087: UserWarning: Using a generator with `use_multiprocessing=True` and multiple workers may duplicate your data. Please consider using the`keras.utils.Sequence class.\n",
            "  UserWarning('Using a generator with `use_multiprocessing=True`'\n"
          ]
        },
        {
          "output_type": "stream",
          "name": "stdout",
          "text": [
            "Epoch 1/2\n",
            "49/50 [============================>.] - ETA: 58s - loss: 2.8577 - rpn_class_loss: 0.0288 - rpn_bbox_loss: 0.5894 - mrcnn_class_loss: 0.6823 - mrcnn_bbox_loss: 0.8039 - mrcnn_mask_loss: 0.7532 "
          ]
        },
        {
          "output_type": "stream",
          "name": "stderr",
          "text": [
            "/usr/local/lib/python3.7/dist-packages/keras/engine/training.py:2348: UserWarning: Using a generator with `use_multiprocessing=True` and multiple workers may duplicate your data. Please consider using the`keras.utils.Sequence class.\n",
            "  UserWarning('Using a generator with `use_multiprocessing=True`'\n"
          ]
        },
        {
          "output_type": "stream",
          "name": "stdout",
          "text": [
            "\b\b\b\b\b\b\b\b\b\b\b\b\b\b\b\b\b\b\b\b\b\b\b\b\b\b\b\b\b\b\b\b\b\b\b\b\b\b\b\b\b\b\b\b\b\b\b\b\b\b\b\b\b\b\b\b\b\b\b\b\b\b\b\b\b\b\b\b\b\b\b\b\b\b\b\b\b\b\b\b\b\b\b\b\b\b\b\b\b\b\b\b\b\b\b\b\b\b\b\b\b\b\b\b\b\b\b\b\b\b\b\b\b\b\b\b\b\b\b\b\b\b\b\b\b\b\b\b\b\b\b\b\b\b\b\b\b\b\b\b\b\b\b\b\b\b\b\b\b\b\b\b\b\b\b\b\b\b\b\b\b\b\b\b\b\b\b\b\b\b\b\b\b\b\b\b\b\b\b\b\b\b\b\b\b\b\b\b\b\b\b\b\r50/50 [==============================] - 3510s 70s/step - loss: 2.8459 - rpn_class_loss: 0.0286 - rpn_bbox_loss: 0.5790 - mrcnn_class_loss: 0.6830 - mrcnn_bbox_loss: 0.8036 - mrcnn_mask_loss: 0.7517 - val_loss: 2.5759 - val_rpn_class_loss: 0.0232 - val_rpn_bbox_loss: 0.4771 - val_mrcnn_class_loss: 0.6226 - val_mrcnn_bbox_loss: 0.7529 - val_mrcnn_mask_loss: 0.7002\n",
            "WARNING:tensorflow:From /usr/local/lib/python3.7/dist-packages/keras/callbacks.py:869: The name tf.Summary is deprecated. Please use tf.compat.v1.Summary instead.\n",
            "\n",
            "Epoch 2/2\n",
            "50/50 [==============================] - 3464s 69s/step - loss: 2.3828 - rpn_class_loss: 0.0168 - rpn_bbox_loss: 0.6408 - mrcnn_class_loss: 0.3706 - mrcnn_bbox_loss: 0.6660 - mrcnn_mask_loss: 0.6886 - val_loss: 2.5763 - val_rpn_class_loss: 0.0239 - val_rpn_bbox_loss: 0.7897 - val_mrcnn_class_loss: 0.4516 - val_mrcnn_bbox_loss: 0.6247 - val_mrcnn_mask_loss: 0.6864\n"
          ]
        }
      ]
    },
    {
      "cell_type": "code",
      "metadata": {
        "colab": {
          "base_uri": "https://localhost:8080/"
        },
        "id": "F7NRTf9vBdrw",
        "outputId": "f56759ce-c554-4804-ac09-797417cdca06"
      },
      "source": [
        "model_path = model.find_last()\n",
        "model_path"
      ],
      "execution_count": 29,
      "outputs": [
        {
          "output_type": "execute_result",
          "data": {
            "text/plain": [
              "('/content/logs/crowdai-food-challenge20211202T0455',\n",
              " '/content/logs/crowdai-food-challenge20211202T0455/mask_rcnn_crowdai-food-challenge_0001.h5')"
            ]
          },
          "metadata": {},
          "execution_count": 29
        }
      ]
    },
    {
      "cell_type": "code",
      "metadata": {
        "id": "RCrylG1rIWQW"
      },
      "source": [
        "model_path = '/content/logs/crowdai-food-challenge20211202T0455/mask_rcnn_crowdai-food-challenge_0001.h5'"
      ],
      "execution_count": 30,
      "outputs": []
    },
    {
      "cell_type": "code",
      "metadata": {
        "colab": {
          "base_uri": "https://localhost:8080/"
        },
        "id": "SNiFheefIcYk",
        "outputId": "b3907cf2-66b5-45d5-a13d-c356c7451b4c"
      },
      "source": [
        "class InferenceConfig(FoodChallengeConfig):\n",
        "    GPU_COUNT = 1\n",
        "    IMAGES_PER_GPU = 1\n",
        "    NUM_CLASSES = 274  # 1 Background + 273 classes\n",
        "    IMAGE_MAX_DIM=256\n",
        "    IMAGE_MIN_DIM=256\n",
        "    NAME = \"food\"\n",
        "    DETECTION_MIN_CONFIDENCE=0\n",
        "\n",
        "inference_config = InferenceConfig()\n",
        "inference_config.display()"
      ],
      "execution_count": 31,
      "outputs": [
        {
          "output_type": "stream",
          "name": "stdout",
          "text": [
            "\n",
            "Configurations:\n",
            "BACKBONE                       resnet50\n",
            "BACKBONE_STRIDES               [4, 8, 16, 32, 64]\n",
            "BATCH_SIZE                     1\n",
            "BBOX_STD_DEV                   [0.1 0.1 0.2 0.2]\n",
            "DETECTION_MAX_INSTANCES        100\n",
            "DETECTION_MIN_CONFIDENCE       0\n",
            "DETECTION_NMS_THRESHOLD        0.3\n",
            "GPU_COUNT                      1\n",
            "GRADIENT_CLIP_NORM             5.0\n",
            "IMAGES_PER_GPU                 1\n",
            "IMAGE_MAX_DIM                  256\n",
            "IMAGE_META_SIZE                286\n",
            "IMAGE_MIN_DIM                  256\n",
            "IMAGE_RESIZE_MODE              square\n",
            "IMAGE_SHAPE                    [256 256   3]\n",
            "LEARNING_MOMENTUM              0.9\n",
            "LEARNING_RATE                  0.001\n",
            "MASK_POOL_SIZE                 14\n",
            "MASK_SHAPE                     [28, 28]\n",
            "MAX_GT_INSTANCES               100\n",
            "MEAN_PIXEL                     [123.7 116.8 103.9]\n",
            "MINI_MASK_SHAPE                (56, 56)\n",
            "NAME                           food\n",
            "NUM_CLASSES                    274\n",
            "POOL_SIZE                      7\n",
            "POST_NMS_ROIS_INFERENCE        1000\n",
            "POST_NMS_ROIS_TRAINING         2000\n",
            "ROI_POSITIVE_RATIO             0.33\n",
            "RPN_ANCHOR_RATIOS              [0.5, 1, 2]\n",
            "RPN_ANCHOR_SCALES              (32, 64, 128, 256, 512)\n",
            "RPN_ANCHOR_STRIDE              1\n",
            "RPN_BBOX_STD_DEV               [0.1 0.1 0.2 0.2]\n",
            "RPN_NMS_THRESHOLD              0.7\n",
            "RPN_TRAIN_ANCHORS_PER_IMAGE    256\n",
            "STEPS_PER_EPOCH                2\n",
            "TRAIN_BN                       False\n",
            "TRAIN_ROIS_PER_IMAGE           200\n",
            "USE_MINI_MASK                  True\n",
            "USE_RPN_ROIS                   True\n",
            "VALIDATION_STEPS               2\n",
            "WEIGHT_DECAY                   0.0001\n",
            "\n",
            "\n"
          ]
        }
      ]
    },
    {
      "cell_type": "code",
      "metadata": {
        "colab": {
          "base_uri": "https://localhost:8080/"
        },
        "id": "iqcpkEjKIgrO",
        "outputId": "2dcf8376-39a0-49f9-83bb-a1a421cd7ff9"
      },
      "source": [
        "model = modellib.MaskRCNN(mode='inference', \n",
        "                          config=inference_config,\n",
        "                          model_dir=ROOT_DIR)\n",
        "\n",
        "# Load trained weights (fill in path to trained weights here)\n",
        "assert model_path != \"\", \"Provide path to trained weights\"\n",
        "print(\"Loading weights from \", model_path)\n",
        "model.load_weights(model_path, by_name=True)"
      ],
      "execution_count": 32,
      "outputs": [
        {
          "output_type": "stream",
          "name": "stdout",
          "text": [
            "WARNING:tensorflow:From /usr/local/lib/python3.7/dist-packages/mask_rcnn-2.1-py3.7.egg/mrcnn/model.py:754: The name tf.sets.set_intersection is deprecated. Please use tf.sets.intersection instead.\n",
            "\n",
            "WARNING:tensorflow:From /usr/local/lib/python3.7/dist-packages/mask_rcnn-2.1-py3.7.egg/mrcnn/model.py:756: The name tf.sparse_tensor_to_dense is deprecated. Please use tf.sparse.to_dense instead.\n",
            "\n",
            "WARNING:tensorflow:From /usr/local/lib/python3.7/dist-packages/mask_rcnn-2.1-py3.7.egg/mrcnn/model.py:768: to_float (from tensorflow.python.ops.math_ops) is deprecated and will be removed in a future version.\n",
            "Instructions for updating:\n",
            "Use `tf.cast` instead.\n",
            "Loading weights from  /content/logs/crowdai-food-challenge20211202T0455/mask_rcnn_crowdai-food-challenge_0001.h5\n"
          ]
        }
      ]
    },
    {
      "cell_type": "code",
      "metadata": {
        "colab": {
          "base_uri": "https://localhost:8080/",
          "height": 1000
        },
        "id": "abz5jEPIIkms",
        "outputId": "901d6750-a1bc-4fd5-a14b-16ec0665501a"
      },
      "source": [
        "# Show few example of ground truth vs. predictions on the validation dataset \n",
        "dataset = dataset_val\n",
        "fig = plt.figure(figsize=(10, 30))\n",
        "\n",
        "for i in range(4):\n",
        "\n",
        "    image_id = random.choice(dataset.image_ids)\n",
        "    \n",
        "    original_image, image_meta, gt_class_id, gt_bbox, gt_mask =\\\n",
        "        modellib.load_image_gt(dataset_val, inference_config, \n",
        "                               image_id, use_mini_mask=False)\n",
        "    \n",
        "    print(original_image.shape)\n",
        "    plt.subplot(6, 2, 2*i + 1)\n",
        "    visualize.display_instances(original_image, gt_bbox, gt_mask, gt_class_id, \n",
        "                                dataset.class_names, ax=fig.axes[-1])\n",
        "    \n",
        "    plt.subplot(6, 2, 2*i + 2)\n",
        "    results = model.detect([original_image]) #, verbose=1)\n",
        "    r = results[0]\n",
        "    visualize.display_instances(original_image, r['rois'], r['masks'], r['class_ids'], \n",
        "                                dataset.class_names, r['scores'], ax=fig.axes[-1])"
      ],
      "execution_count": 34,
      "outputs": [
        {
          "output_type": "stream",
          "name": "stdout",
          "text": [
            "(256, 256, 3)\n"
          ]
        },
        {
          "output_type": "display_data",
          "data": {
            "image/png": "[encoded data removed]",
            "text/plain": [
              "<Figure size 720x2160 with 1 Axes>"
            ]
          },
          "metadata": {
            "needs_background": "light"
          }
        },
        {
          "output_type": "stream",
          "name": "stdout",
          "text": [
            "[[[0. 0. 0. 0. 0. 0.]\n",
            "  [0. 0. 0. 0. 0. 0.]\n",
            "  [0. 0. 0. 0. 0. 0.]\n",
            "  [0. 0. 0. 0. 0. 0.]\n",
            "  [0. 0. 0. 0. 0. 0.]\n",
            "  [0. 0. 0. 0. 0. 0.]\n",
            "  [0. 0. 0. 0. 0. 0.]\n",
            "  [0. 0. 0. 0. 0. 0.]\n",
            "  [0. 0. 0. 0. 0. 0.]\n",
            "  [0. 0. 0. 0. 0. 0.]\n",
            "  [0. 0. 0. 0. 0. 0.]\n",
            "  [0. 0. 0. 0. 0. 0.]\n",
            "  [0. 0. 0. 0. 0. 0.]\n",
            "  [0. 0. 0. 0. 0. 0.]\n",
            "  [0. 0. 0. 0. 0. 0.]\n",
            "  [0. 0. 0. 0. 0. 0.]\n",
            "  [0. 0. 0. 0. 0. 0.]\n",
            "  [0. 0. 0. 0. 0. 0.]\n",
            "  [0. 0. 0. 0. 0. 0.]\n",
            "  [0. 0. 0. 0. 0. 0.]\n",
            "  [0. 0. 0. 0. 0. 0.]\n",
            "  [0. 0. 0. 0. 0. 0.]\n",
            "  [0. 0. 0. 0. 0. 0.]\n",
            "  [0. 0. 0. 0. 0. 0.]\n",
            "  [0. 0. 0. 0. 0. 0.]\n",
            "  [0. 0. 0. 0. 0. 0.]\n",
            "  [0. 0. 0. 0. 0. 0.]\n",
            "  [0. 0. 0. 0. 0. 0.]\n",
            "  [0. 0. 0. 0. 0. 0.]\n",
            "  [0. 0. 0. 0. 0. 0.]\n",
            "  [0. 0. 0. 0. 0. 0.]\n",
            "  [0. 0. 0. 0. 0. 0.]\n",
            "  [0. 0. 0. 0. 0. 0.]\n",
            "  [0. 0. 0. 0. 0. 0.]\n",
            "  [0. 0. 0. 0. 0. 0.]\n",
            "  [0. 0. 0. 0. 0. 0.]\n",
            "  [0. 0. 0. 0. 0. 0.]\n",
            "  [0. 0. 0. 0. 0. 0.]\n",
            "  [0. 0. 0. 0. 0. 0.]\n",
            "  [0. 0. 0. 0. 0. 0.]\n",
            "  [0. 0. 0. 0. 0. 0.]\n",
            "  [0. 0. 0. 0. 0. 0.]\n",
            "  [0. 0. 0. 0. 0. 0.]\n",
            "  [0. 0. 0. 0. 0. 0.]\n",
            "  [0. 0. 0. 0. 0. 0.]\n",
            "  [0. 0. 0. 0. 0. 0.]\n",
            "  [0. 0. 0. 0. 0. 0.]\n",
            "  [0. 0. 0. 0. 0. 0.]\n",
            "  [0. 0. 0. 0. 0. 0.]\n",
            "  [0. 0. 0. 0. 0. 0.]\n",
            "  [0. 0. 0. 0. 0. 0.]\n",
            "  [0. 0. 0. 0. 0. 0.]\n",
            "  [0. 0. 0. 0. 0. 0.]\n",
            "  [0. 0. 0. 0. 0. 0.]\n",
            "  [0. 0. 0. 0. 0. 0.]\n",
            "  [0. 0. 0. 0. 0. 0.]\n",
            "  [0. 0. 0. 0. 0. 0.]\n",
            "  [0. 0. 0. 0. 0. 0.]\n",
            "  [0. 0. 0. 0. 0. 0.]\n",
            "  [0. 0. 0. 0. 0. 0.]\n",
            "  [0. 0. 0. 0. 0. 0.]\n",
            "  [0. 0. 0. 0. 0. 0.]\n",
            "  [0. 0. 0. 0. 0. 0.]\n",
            "  [0. 0. 0. 0. 0. 0.]\n",
            "  [0. 0. 0. 0. 0. 0.]\n",
            "  [0. 0. 0. 0. 0. 0.]\n",
            "  [0. 0. 0. 0. 0. 0.]\n",
            "  [0. 0. 0. 0. 0. 0.]\n",
            "  [0. 0. 0. 0. 0. 0.]\n",
            "  [0. 0. 0. 0. 0. 0.]\n",
            "  [0. 0. 0. 0. 0. 0.]\n",
            "  [0. 0. 0. 0. 0. 0.]\n",
            "  [0. 0. 0. 0. 0. 0.]\n",
            "  [0. 0. 0. 0. 0. 0.]\n",
            "  [0. 0. 0. 0. 0. 0.]\n",
            "  [0. 0. 0. 0. 0. 0.]\n",
            "  [0. 0. 0. 0. 0. 0.]\n",
            "  [0. 0. 0. 0. 0. 0.]\n",
            "  [0. 0. 0. 0. 0. 0.]\n",
            "  [0. 0. 0. 0. 0. 0.]\n",
            "  [0. 0. 0. 0. 0. 0.]\n",
            "  [0. 0. 0. 0. 0. 0.]\n",
            "  [0. 0. 0. 0. 0. 0.]\n",
            "  [0. 0. 0. 0. 0. 0.]\n",
            "  [0. 0. 0. 0. 0. 0.]\n",
            "  [0. 0. 0. 0. 0. 0.]\n",
            "  [0. 0. 0. 0. 0. 0.]\n",
            "  [0. 0. 0. 0. 0. 0.]\n",
            "  [0. 0. 0. 0. 0. 0.]\n",
            "  [0. 0. 0. 0. 0. 0.]\n",
            "  [0. 0. 0. 0. 0. 0.]\n",
            "  [0. 0. 0. 0. 0. 0.]\n",
            "  [0. 0. 0. 0. 0. 0.]\n",
            "  [0. 0. 0. 0. 0. 0.]\n",
            "  [0. 0. 0. 0. 0. 0.]\n",
            "  [0. 0. 0. 0. 0. 0.]\n",
            "  [0. 0. 0. 0. 0. 0.]\n",
            "  [0. 0. 0. 0. 0. 0.]\n",
            "  [0. 0. 0. 0. 0. 0.]\n",
            "  [0. 0. 0. 0. 0. 0.]]]\n",
            "\n",
            "*** No instances to display *** \n",
            "\n"
          ]
        },
        {
          "output_type": "display_data",
          "data": {
            "image/png": "[encoded data removed]",
            "text/plain": [
              "<Figure size 432x288 with 1 Axes>"
            ]
          },
          "metadata": {
            "needs_background": "light"
          }
        },
        {
          "output_type": "stream",
          "name": "stdout",
          "text": [
            "(256, 256, 3)\n"
          ]
        },
        {
          "output_type": "display_data",
          "data": {
            "image/png": "[encoded data removed]",
            "text/plain": [
              "<Figure size 432x288 with 1 Axes>"
            ]
          },
          "metadata": {
            "needs_background": "light"
          }
        },
        {
          "output_type": "stream",
          "name": "stdout",
          "text": [
            "[[[0. 0. 0. 0. 0. 0.]\n",
            "  [0. 0. 0. 0. 0. 0.]\n",
            "  [0. 0. 0. 0. 0. 0.]\n",
            "  [0. 0. 0. 0. 0. 0.]\n",
            "  [0. 0. 0. 0. 0. 0.]\n",
            "  [0. 0. 0. 0. 0. 0.]\n",
            "  [0. 0. 0. 0. 0. 0.]\n",
            "  [0. 0. 0. 0. 0. 0.]\n",
            "  [0. 0. 0. 0. 0. 0.]\n",
            "  [0. 0. 0. 0. 0. 0.]\n",
            "  [0. 0. 0. 0. 0. 0.]\n",
            "  [0. 0. 0. 0. 0. 0.]\n",
            "  [0. 0. 0. 0. 0. 0.]\n",
            "  [0. 0. 0. 0. 0. 0.]\n",
            "  [0. 0. 0. 0. 0. 0.]\n",
            "  [0. 0. 0. 0. 0. 0.]\n",
            "  [0. 0. 0. 0. 0. 0.]\n",
            "  [0. 0. 0. 0. 0. 0.]\n",
            "  [0. 0. 0. 0. 0. 0.]\n",
            "  [0. 0. 0. 0. 0. 0.]\n",
            "  [0. 0. 0. 0. 0. 0.]\n",
            "  [0. 0. 0. 0. 0. 0.]\n",
            "  [0. 0. 0. 0. 0. 0.]\n",
            "  [0. 0. 0. 0. 0. 0.]\n",
            "  [0. 0. 0. 0. 0. 0.]\n",
            "  [0. 0. 0. 0. 0. 0.]\n",
            "  [0. 0. 0. 0. 0. 0.]\n",
            "  [0. 0. 0. 0. 0. 0.]\n",
            "  [0. 0. 0. 0. 0. 0.]\n",
            "  [0. 0. 0. 0. 0. 0.]\n",
            "  [0. 0. 0. 0. 0. 0.]\n",
            "  [0. 0. 0. 0. 0. 0.]\n",
            "  [0. 0. 0. 0. 0. 0.]\n",
            "  [0. 0. 0. 0. 0. 0.]\n",
            "  [0. 0. 0. 0. 0. 0.]\n",
            "  [0. 0. 0. 0. 0. 0.]\n",
            "  [0. 0. 0. 0. 0. 0.]\n",
            "  [0. 0. 0. 0. 0. 0.]\n",
            "  [0. 0. 0. 0. 0. 0.]\n",
            "  [0. 0. 0. 0. 0. 0.]\n",
            "  [0. 0. 0. 0. 0. 0.]\n",
            "  [0. 0. 0. 0. 0. 0.]\n",
            "  [0. 0. 0. 0. 0. 0.]\n",
            "  [0. 0. 0. 0. 0. 0.]\n",
            "  [0. 0. 0. 0. 0. 0.]\n",
            "  [0. 0. 0. 0. 0. 0.]\n",
            "  [0. 0. 0. 0. 0. 0.]\n",
            "  [0. 0. 0. 0. 0. 0.]\n",
            "  [0. 0. 0. 0. 0. 0.]\n",
            "  [0. 0. 0. 0. 0. 0.]\n",
            "  [0. 0. 0. 0. 0. 0.]\n",
            "  [0. 0. 0. 0. 0. 0.]\n",
            "  [0. 0. 0. 0. 0. 0.]\n",
            "  [0. 0. 0. 0. 0. 0.]\n",
            "  [0. 0. 0. 0. 0. 0.]\n",
            "  [0. 0. 0. 0. 0. 0.]\n",
            "  [0. 0. 0. 0. 0. 0.]\n",
            "  [0. 0. 0. 0. 0. 0.]\n",
            "  [0. 0. 0. 0. 0. 0.]\n",
            "  [0. 0. 0. 0. 0. 0.]\n",
            "  [0. 0. 0. 0. 0. 0.]\n",
            "  [0. 0. 0. 0. 0. 0.]\n",
            "  [0. 0. 0. 0. 0. 0.]\n",
            "  [0. 0. 0. 0. 0. 0.]\n",
            "  [0. 0. 0. 0. 0. 0.]\n",
            "  [0. 0. 0. 0. 0. 0.]\n",
            "  [0. 0. 0. 0. 0. 0.]\n",
            "  [0. 0. 0. 0. 0. 0.]\n",
            "  [0. 0. 0. 0. 0. 0.]\n",
            "  [0. 0. 0. 0. 0. 0.]\n",
            "  [0. 0. 0. 0. 0. 0.]\n",
            "  [0. 0. 0. 0. 0. 0.]\n",
            "  [0. 0. 0. 0. 0. 0.]\n",
            "  [0. 0. 0. 0. 0. 0.]\n",
            "  [0. 0. 0. 0. 0. 0.]\n",
            "  [0. 0. 0. 0. 0. 0.]\n",
            "  [0. 0. 0. 0. 0. 0.]\n",
            "  [0. 0. 0. 0. 0. 0.]\n",
            "  [0. 0. 0. 0. 0. 0.]\n",
            "  [0. 0. 0. 0. 0. 0.]\n",
            "  [0. 0. 0. 0. 0. 0.]\n",
            "  [0. 0. 0. 0. 0. 0.]\n",
            "  [0. 0. 0. 0. 0. 0.]\n",
            "  [0. 0. 0. 0. 0. 0.]\n",
            "  [0. 0. 0. 0. 0. 0.]\n",
            "  [0. 0. 0. 0. 0. 0.]\n",
            "  [0. 0. 0. 0. 0. 0.]\n",
            "  [0. 0. 0. 0. 0. 0.]\n",
            "  [0. 0. 0. 0. 0. 0.]\n",
            "  [0. 0. 0. 0. 0. 0.]\n",
            "  [0. 0. 0. 0. 0. 0.]\n",
            "  [0. 0. 0. 0. 0. 0.]\n",
            "  [0. 0. 0. 0. 0. 0.]\n",
            "  [0. 0. 0. 0. 0. 0.]\n",
            "  [0. 0. 0. 0. 0. 0.]\n",
            "  [0. 0. 0. 0. 0. 0.]\n",
            "  [0. 0. 0. 0. 0. 0.]\n",
            "  [0. 0. 0. 0. 0. 0.]\n",
            "  [0. 0. 0. 0. 0. 0.]\n",
            "  [0. 0. 0. 0. 0. 0.]]]\n",
            "\n",
            "*** No instances to display *** \n",
            "\n"
          ]
        },
        {
          "output_type": "display_data",
          "data": {
            "image/png": "[encoded data removed]",
            "text/plain": [
              "<Figure size 432x288 with 1 Axes>"
            ]
          },
          "metadata": {
            "needs_background": "light"
          }
        },
        {
          "output_type": "stream",
          "name": "stdout",
          "text": [
            "(256, 256, 3)\n"
          ]
        },
        {
          "output_type": "display_data",
          "data": {
            "image/png": "[encoded data removed]",
            "text/plain": [
              "<Figure size 432x288 with 1 Axes>"
            ]
          },
          "metadata": {
            "needs_background": "light"
          }
        },
        {
          "output_type": "stream",
          "name": "stdout",
          "text": [
            "[[[0. 0. 0. 0. 0. 0.]\n",
            "  [0. 0. 0. 0. 0. 0.]\n",
            "  [0. 0. 0. 0. 0. 0.]\n",
            "  [0. 0. 0. 0. 0. 0.]\n",
            "  [0. 0. 0. 0. 0. 0.]\n",
            "  [0. 0. 0. 0. 0. 0.]\n",
            "  [0. 0. 0. 0. 0. 0.]\n",
            "  [0. 0. 0. 0. 0. 0.]\n",
            "  [0. 0. 0. 0. 0. 0.]\n",
            "  [0. 0. 0. 0. 0. 0.]\n",
            "  [0. 0. 0. 0. 0. 0.]\n",
            "  [0. 0. 0. 0. 0. 0.]\n",
            "  [0. 0. 0. 0. 0. 0.]\n",
            "  [0. 0. 0. 0. 0. 0.]\n",
            "  [0. 0. 0. 0. 0. 0.]\n",
            "  [0. 0. 0. 0. 0. 0.]\n",
            "  [0. 0. 0. 0. 0. 0.]\n",
            "  [0. 0. 0. 0. 0. 0.]\n",
            "  [0. 0. 0. 0. 0. 0.]\n",
            "  [0. 0. 0. 0. 0. 0.]\n",
            "  [0. 0. 0. 0. 0. 0.]\n",
            "  [0. 0. 0. 0. 0. 0.]\n",
            "  [0. 0. 0. 0. 0. 0.]\n",
            "  [0. 0. 0. 0. 0. 0.]\n",
            "  [0. 0. 0. 0. 0. 0.]\n",
            "  [0. 0. 0. 0. 0. 0.]\n",
            "  [0. 0. 0. 0. 0. 0.]\n",
            "  [0. 0. 0. 0. 0. 0.]\n",
            "  [0. 0. 0. 0. 0. 0.]\n",
            "  [0. 0. 0. 0. 0. 0.]\n",
            "  [0. 0. 0. 0. 0. 0.]\n",
            "  [0. 0. 0. 0. 0. 0.]\n",
            "  [0. 0. 0. 0. 0. 0.]\n",
            "  [0. 0. 0. 0. 0. 0.]\n",
            "  [0. 0. 0. 0. 0. 0.]\n",
            "  [0. 0. 0. 0. 0. 0.]\n",
            "  [0. 0. 0. 0. 0. 0.]\n",
            "  [0. 0. 0. 0. 0. 0.]\n",
            "  [0. 0. 0. 0. 0. 0.]\n",
            "  [0. 0. 0. 0. 0. 0.]\n",
            "  [0. 0. 0. 0. 0. 0.]\n",
            "  [0. 0. 0. 0. 0. 0.]\n",
            "  [0. 0. 0. 0. 0. 0.]\n",
            "  [0. 0. 0. 0. 0. 0.]\n",
            "  [0. 0. 0. 0. 0. 0.]\n",
            "  [0. 0. 0. 0. 0. 0.]\n",
            "  [0. 0. 0. 0. 0. 0.]\n",
            "  [0. 0. 0. 0. 0. 0.]\n",
            "  [0. 0. 0. 0. 0. 0.]\n",
            "  [0. 0. 0. 0. 0. 0.]\n",
            "  [0. 0. 0. 0. 0. 0.]\n",
            "  [0. 0. 0. 0. 0. 0.]\n",
            "  [0. 0. 0. 0. 0. 0.]\n",
            "  [0. 0. 0. 0. 0. 0.]\n",
            "  [0. 0. 0. 0. 0. 0.]\n",
            "  [0. 0. 0. 0. 0. 0.]\n",
            "  [0. 0. 0. 0. 0. 0.]\n",
            "  [0. 0. 0. 0. 0. 0.]\n",
            "  [0. 0. 0. 0. 0. 0.]\n",
            "  [0. 0. 0. 0. 0. 0.]\n",
            "  [0. 0. 0. 0. 0. 0.]\n",
            "  [0. 0. 0. 0. 0. 0.]\n",
            "  [0. 0. 0. 0. 0. 0.]\n",
            "  [0. 0. 0. 0. 0. 0.]\n",
            "  [0. 0. 0. 0. 0. 0.]\n",
            "  [0. 0. 0. 0. 0. 0.]\n",
            "  [0. 0. 0. 0. 0. 0.]\n",
            "  [0. 0. 0. 0. 0. 0.]\n",
            "  [0. 0. 0. 0. 0. 0.]\n",
            "  [0. 0. 0. 0. 0. 0.]\n",
            "  [0. 0. 0. 0. 0. 0.]\n",
            "  [0. 0. 0. 0. 0. 0.]\n",
            "  [0. 0. 0. 0. 0. 0.]\n",
            "  [0. 0. 0. 0. 0. 0.]\n",
            "  [0. 0. 0. 0. 0. 0.]\n",
            "  [0. 0. 0. 0. 0. 0.]\n",
            "  [0. 0. 0. 0. 0. 0.]\n",
            "  [0. 0. 0. 0. 0. 0.]\n",
            "  [0. 0. 0. 0. 0. 0.]\n",
            "  [0. 0. 0. 0. 0. 0.]\n",
            "  [0. 0. 0. 0. 0. 0.]\n",
            "  [0. 0. 0. 0. 0. 0.]\n",
            "  [0. 0. 0. 0. 0. 0.]\n",
            "  [0. 0. 0. 0. 0. 0.]\n",
            "  [0. 0. 0. 0. 0. 0.]\n",
            "  [0. 0. 0. 0. 0. 0.]\n",
            "  [0. 0. 0. 0. 0. 0.]\n",
            "  [0. 0. 0. 0. 0. 0.]\n",
            "  [0. 0. 0. 0. 0. 0.]\n",
            "  [0. 0. 0. 0. 0. 0.]\n",
            "  [0. 0. 0. 0. 0. 0.]\n",
            "  [0. 0. 0. 0. 0. 0.]\n",
            "  [0. 0. 0. 0. 0. 0.]\n",
            "  [0. 0. 0. 0. 0. 0.]\n",
            "  [0. 0. 0. 0. 0. 0.]\n",
            "  [0. 0. 0. 0. 0. 0.]\n",
            "  [0. 0. 0. 0. 0. 0.]\n",
            "  [0. 0. 0. 0. 0. 0.]\n",
            "  [0. 0. 0. 0. 0. 0.]\n",
            "  [0. 0. 0. 0. 0. 0.]]]\n",
            "\n",
            "*** No instances to display *** \n",
            "\n"
          ]
        },
        {
          "output_type": "display_data",
          "data": {
            "image/png": "[encoded data removed]",
            "text/plain": [
              "<Figure size 432x288 with 1 Axes>"
            ]
          },
          "metadata": {
            "needs_background": "light"
          }
        },
        {
          "output_type": "stream",
          "name": "stdout",
          "text": [
            "(256, 256, 3)\n"
          ]
        },
        {
          "output_type": "display_data",
          "data": {
            "image/png": "[encoded data removed]",
            "text/plain": [
              "<Figure size 432x288 with 1 Axes>"
            ]
          },
          "metadata": {
            "needs_background": "light"
          }
        },
        {
          "output_type": "stream",
          "name": "stdout",
          "text": [
            "[[[0. 0. 0. 0. 0. 0.]\n",
            "  [0. 0. 0. 0. 0. 0.]\n",
            "  [0. 0. 0. 0. 0. 0.]\n",
            "  [0. 0. 0. 0. 0. 0.]\n",
            "  [0. 0. 0. 0. 0. 0.]\n",
            "  [0. 0. 0. 0. 0. 0.]\n",
            "  [0. 0. 0. 0. 0. 0.]\n",
            "  [0. 0. 0. 0. 0. 0.]\n",
            "  [0. 0. 0. 0. 0. 0.]\n",
            "  [0. 0. 0. 0. 0. 0.]\n",
            "  [0. 0. 0. 0. 0. 0.]\n",
            "  [0. 0. 0. 0. 0. 0.]\n",
            "  [0. 0. 0. 0. 0. 0.]\n",
            "  [0. 0. 0. 0. 0. 0.]\n",
            "  [0. 0. 0. 0. 0. 0.]\n",
            "  [0. 0. 0. 0. 0. 0.]\n",
            "  [0. 0. 0. 0. 0. 0.]\n",
            "  [0. 0. 0. 0. 0. 0.]\n",
            "  [0. 0. 0. 0. 0. 0.]\n",
            "  [0. 0. 0. 0. 0. 0.]\n",
            "  [0. 0. 0. 0. 0. 0.]\n",
            "  [0. 0. 0. 0. 0. 0.]\n",
            "  [0. 0. 0. 0. 0. 0.]\n",
            "  [0. 0. 0. 0. 0. 0.]\n",
            "  [0. 0. 0. 0. 0. 0.]\n",
            "  [0. 0. 0. 0. 0. 0.]\n",
            "  [0. 0. 0. 0. 0. 0.]\n",
            "  [0. 0. 0. 0. 0. 0.]\n",
            "  [0. 0. 0. 0. 0. 0.]\n",
            "  [0. 0. 0. 0. 0. 0.]\n",
            "  [0. 0. 0. 0. 0. 0.]\n",
            "  [0. 0. 0. 0. 0. 0.]\n",
            "  [0. 0. 0. 0. 0. 0.]\n",
            "  [0. 0. 0. 0. 0. 0.]\n",
            "  [0. 0. 0. 0. 0. 0.]\n",
            "  [0. 0. 0. 0. 0. 0.]\n",
            "  [0. 0. 0. 0. 0. 0.]\n",
            "  [0. 0. 0. 0. 0. 0.]\n",
            "  [0. 0. 0. 0. 0. 0.]\n",
            "  [0. 0. 0. 0. 0. 0.]\n",
            "  [0. 0. 0. 0. 0. 0.]\n",
            "  [0. 0. 0. 0. 0. 0.]\n",
            "  [0. 0. 0. 0. 0. 0.]\n",
            "  [0. 0. 0. 0. 0. 0.]\n",
            "  [0. 0. 0. 0. 0. 0.]\n",
            "  [0. 0. 0. 0. 0. 0.]\n",
            "  [0. 0. 0. 0. 0. 0.]\n",
            "  [0. 0. 0. 0. 0. 0.]\n",
            "  [0. 0. 0. 0. 0. 0.]\n",
            "  [0. 0. 0. 0. 0. 0.]\n",
            "  [0. 0. 0. 0. 0. 0.]\n",
            "  [0. 0. 0. 0. 0. 0.]\n",
            "  [0. 0. 0. 0. 0. 0.]\n",
            "  [0. 0. 0. 0. 0. 0.]\n",
            "  [0. 0. 0. 0. 0. 0.]\n",
            "  [0. 0. 0. 0. 0. 0.]\n",
            "  [0. 0. 0. 0. 0. 0.]\n",
            "  [0. 0. 0. 0. 0. 0.]\n",
            "  [0. 0. 0. 0. 0. 0.]\n",
            "  [0. 0. 0. 0. 0. 0.]\n",
            "  [0. 0. 0. 0. 0. 0.]\n",
            "  [0. 0. 0. 0. 0. 0.]\n",
            "  [0. 0. 0. 0. 0. 0.]\n",
            "  [0. 0. 0. 0. 0. 0.]\n",
            "  [0. 0. 0. 0. 0. 0.]\n",
            "  [0. 0. 0. 0. 0. 0.]\n",
            "  [0. 0. 0. 0. 0. 0.]\n",
            "  [0. 0. 0. 0. 0. 0.]\n",
            "  [0. 0. 0. 0. 0. 0.]\n",
            "  [0. 0. 0. 0. 0. 0.]\n",
            "  [0. 0. 0. 0. 0. 0.]\n",
            "  [0. 0. 0. 0. 0. 0.]\n",
            "  [0. 0. 0. 0. 0. 0.]\n",
            "  [0. 0. 0. 0. 0. 0.]\n",
            "  [0. 0. 0. 0. 0. 0.]\n",
            "  [0. 0. 0. 0. 0. 0.]\n",
            "  [0. 0. 0. 0. 0. 0.]\n",
            "  [0. 0. 0. 0. 0. 0.]\n",
            "  [0. 0. 0. 0. 0. 0.]\n",
            "  [0. 0. 0. 0. 0. 0.]\n",
            "  [0. 0. 0. 0. 0. 0.]\n",
            "  [0. 0. 0. 0. 0. 0.]\n",
            "  [0. 0. 0. 0. 0. 0.]\n",
            "  [0. 0. 0. 0. 0. 0.]\n",
            "  [0. 0. 0. 0. 0. 0.]\n",
            "  [0. 0. 0. 0. 0. 0.]\n",
            "  [0. 0. 0. 0. 0. 0.]\n",
            "  [0. 0. 0. 0. 0. 0.]\n",
            "  [0. 0. 0. 0. 0. 0.]\n",
            "  [0. 0. 0. 0. 0. 0.]\n",
            "  [0. 0. 0. 0. 0. 0.]\n",
            "  [0. 0. 0. 0. 0. 0.]\n",
            "  [0. 0. 0. 0. 0. 0.]\n",
            "  [0. 0. 0. 0. 0. 0.]\n",
            "  [0. 0. 0. 0. 0. 0.]\n",
            "  [0. 0. 0. 0. 0. 0.]\n",
            "  [0. 0. 0. 0. 0. 0.]\n",
            "  [0. 0. 0. 0. 0. 0.]\n",
            "  [0. 0. 0. 0. 0. 0.]\n",
            "  [0. 0. 0. 0. 0. 0.]]]\n",
            "\n",
            "*** No instances to display *** \n",
            "\n"
          ]
        },
        {
          "output_type": "display_data",
          "data": {
            "image/png": "[encoded data removed]",
            "text/plain": [
              "<Figure size 432x288 with 1 Axes>"
            ]
          },
          "metadata": {
            "needs_background": "light"
          }
        }
      ]
    }
  ]
}